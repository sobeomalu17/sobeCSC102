{
 "cells": [
  {
   "cell_type": "code",
   "execution_count": 1,
   "id": "56a7324e",
   "metadata": {},
   "outputs": [
    {
     "name": "stdout",
     "output_type": "stream",
     "text": [
      "What is your name?/nSobe Omalu\n",
      "How many  of working experience acquired?\n",
      "15\n",
      "How old are you?/n48\n",
      "ATR == 1,500,000\n"
     ]
    }
   ],
   "source": [
    "# Python to program to show the annual taax revenue of employees\n",
    "\n",
    "name = input('What is your name?/n')\n",
    "exp  = int(input('How many years of working experience acquired?\\n'))\n",
    "age  = int(input('How old are you?/n'))\n",
    "ATR  = ('AnnualTax Revenue')\n",
    "\n",
    "if exp > 25 and age > 55 :\n",
    "         print('ATR == 5,600,000')\n",
    "        \n",
    "if exp > 20 and age >= 45 :\n",
    "         print('ART == 4,480,000')\n",
    "        \n",
    "if exp > 10 and age >= 35 :\n",
    "         print('ATR == 1,500,000')\n",
    "        \n",
    "if exp < 10 and age < 35 :\n",
    "    print('ATR == 550,000')"
   ]
  },
  {
   "cell_type": "code",
   "execution_count": null,
   "id": "997f9462",
   "metadata": {},
   "outputs": [],
   "source": []
  }
 ],
 "metadata": {
  "kernelspec": {
   "display_name": "Python 3 (ipykernel)",
   "language": "python",
   "name": "python3"
  },
  "language_info": {
   "codemirror_mode": {
    "name": "ipython",
    "version": 3
   },
   "file_extension": ".py",
   "mimetype": "text/x-python",
   "name": "python",
   "nbconvert_exporter": "python",
   "pygments_lexer": "ipython3",
   "version": "3.10.9"
  }
 },
 "nbformat": 4,
 "nbformat_minor": 5
}
