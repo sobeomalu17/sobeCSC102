{
 "cells": [
  {
   "cell_type": "code",
   "execution_count": 2,
   "id": "929a1144",
   "metadata": {
    "scrolled": true
   },
   "outputs": [
    {
     "name": "stdout",
     "output_type": "stream",
     "text": [
      "Type 1 to calculate the area of trapezium\n",
      "Type 2 to calculate the area of rhombus\n",
      "Type 3 to calculate the area of parallelogram\n",
      "Type 4 to calulate the area of cube\n",
      "Type 5 to calculate the area of cylinder\n",
      "Enter a number 1-52\n",
      "Enter a value for diagonal1:5\n",
      "Enter a value for diagonal2:9\n"
     ]
    },
    {
     "ename": "NameError",
     "evalue": "name 'shape_calc' is not defined",
     "output_type": "error",
     "traceback": [
      "\u001b[1;31m---------------------------------------------------------------------------\u001b[0m",
      "\u001b[1;31mNameError\u001b[0m                                 Traceback (most recent call last)",
      "Cell \u001b[1;32mIn[2], line 52\u001b[0m\n\u001b[0;32m     49\u001b[0m     diagonal1 \u001b[38;5;241m=\u001b[39m \u001b[38;5;28mint\u001b[39m(\u001b[38;5;28minput\u001b[39m(\u001b[38;5;124m\"\u001b[39m\u001b[38;5;124mEnter a value for diagonal1:\u001b[39m\u001b[38;5;124m\"\u001b[39m))\n\u001b[0;32m     50\u001b[0m     diagonal2 \u001b[38;5;241m=\u001b[39m \u001b[38;5;28mint\u001b[39m(\u001b[38;5;28minput\u001b[39m(\u001b[38;5;124m\"\u001b[39m\u001b[38;5;124mEnter a value for diagonal2:\u001b[39m\u001b[38;5;124m\"\u001b[39m))\n\u001b[1;32m---> 52\u001b[0m     obj \u001b[38;5;241m=\u001b[39m \u001b[43mshape_calc\u001b[49m()\n\u001b[0;32m     53\u001b[0m     obj\u001b[38;5;241m.\u001b[39mrhombus(diagonal1, diagonal2)\n\u001b[0;32m     55\u001b[0m \u001b[38;5;28;01melif\u001b[39;00m user_input \u001b[38;5;241m==\u001b[39m \u001b[38;5;241m3\u001b[39m:    \n",
      "\u001b[1;31mNameError\u001b[0m: name 'shape_calc' is not defined"
     ]
    }
   ],
   "source": [
    "class shape():\n",
    "    def trapezium(self, height, base1, base2):\n",
    "        self.height = height\n",
    "        self.base1 = base1\n",
    "        self.base2 = base2\n",
    "        solution = self.height/2*(self.base1+self.base2)\n",
    "        print(f\"Area of trapezium is{solution}\")\n",
    "    \n",
    "    def rhombus(self, diagonal1, diagonal2):\n",
    "        self.diagonal1 = diagonal1\n",
    "        self.diagonal2 = diagonal2\n",
    "        solution = (self.diagonal1*self.diagonal2)/2\n",
    "        print(f\"Area of rhombus is{solution}\")\n",
    "    \n",
    "    def parallelogram(self, base, altitude):\n",
    "        self.base = base\n",
    "        self.altitude = altitude\n",
    "        solution = (self.base * self.altitude)\n",
    "        print (f\"Area of parallelogram is {solution}\")\n",
    "    \n",
    "    def cube(self, length): \n",
    "        self.length = length\n",
    "        solution = (6 *(self.length)*2)\n",
    "        print (f\"Area of cube is {solution}\")\n",
    "    \n",
    "    def cylinder(self, radius, height):\n",
    "        self.radius = radius\n",
    "        self.height = height\n",
    "        solution = (3.142 * self.radius**2 *height)\n",
    "        print (f\"Area of cylinder is {solution}\")\n",
    "\n",
    "print(\"Type 1 to calculate the area of trapezium\")\n",
    "print(\"Type 2 to calculate the area of rhombus\")\n",
    "print(\"Type 3 to calculate the area of parallelogram\")\n",
    "print(\"Type 4 to calulate the area of cube\")\n",
    "print(\"Type 5 to calculate the area of cylinder\")\n",
    "\n",
    "user_input = int(input(\"Enter a number 1-5\"))\n",
    "\n",
    "if user_input == 1:\n",
    "    base1 = int(input(\"Enter a value for base1:\"))\n",
    "    base2 = int(input(\"Enter a value for base2:\"))\n",
    "    height = int(input(\"Enter a value for height:\"))\n",
    "    \n",
    "    obj = shape_calc()\n",
    "    obj.trapezium(height, base1, base2)\n",
    "    \n",
    "elif user_input == 2:\n",
    "    diagonal1 = int(input(\"Enter a value for diagonal1:\"))\n",
    "    diagonal2 = int(input(\"Enter a value for diagonal2:\"))\n",
    "        \n",
    "    obj = shape_calc()\n",
    "    obj.rhombus(diagonal1, diagonal2)\n",
    "        \n",
    "elif user_input == 3:    \n",
    "    base = int(input(\"Enter a value for base:\"))\n",
    "    altitude = int(input(\"Enter a value for altitude:\"))\n",
    "        \n",
    "    obj = shape_calc()\n",
    "    obj.parallelogram(base, altitude)\n",
    "        \n",
    "elif user_input == 4: \n",
    "    length = int(input(\"Enter a value for length:\"))\n",
    "        \n",
    "    obj = shape_calc()\n",
    "    obj.cube(length)\n",
    "        \n",
    "elif user_input == 5:\n",
    "    radius = int(input(\"Enter a  value for radius:\"))\n",
    "    height = int(input(\"Enter a value for height:\"))\n",
    "    \n",
    "    obj = shape_calc()\n",
    "    obj.cylinder(radius,height)\n",
    "    \n",
    "else:\n",
    "        print(\"The number you enter is not between 1 and 5\")"
   ]
  },
  {
   "cell_type": "code",
   "execution_count": null,
   "id": "03a0fc13",
   "metadata": {},
   "outputs": [],
   "source": []
  }
 ],
 "metadata": {
  "kernelspec": {
   "display_name": "Python 3 (ipykernel)",
   "language": "python",
   "name": "python3"
  },
  "language_info": {
   "codemirror_mode": {
    "name": "ipython",
    "version": 3
   },
   "file_extension": ".py",
   "mimetype": "text/x-python",
   "name": "python",
   "nbconvert_exporter": "python",
   "pygments_lexer": "ipython3",
   "version": "3.10.9"
  }
 },
 "nbformat": 4,
 "nbformat_minor": 5
}
