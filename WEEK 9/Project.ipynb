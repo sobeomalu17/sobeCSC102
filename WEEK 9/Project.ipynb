{
 "cells": [
  {
   "cell_type": "code",
   "execution_count": 1,
   "id": "c8ecd7a7",
   "metadata": {},
   "outputs": [
    {
     "name": "stdout",
     "output_type": "stream",
     "text": [
      "Enter your name: OMALU SOBE\n",
      "Access denied. You are not an employee.\n"
     ]
    }
   ],
   "source": [
    "import random\n",
    "\n",
    "class Employee:\n",
    "    def __init__(self, name):\n",
    "        self.name = name\n",
    "\n",
    "    def check_employee(self):\n",
    "        employees = [\"Mary Evans\", \"Eyo Ishan\", \"Durojaiye Dare\", \"Adams Ali\", \"Andrew Ugwu\", \"Stella Mankinde\", \"Jane Akibo\", \"Ago James\", \"Michell Taiwo\", \"Abraham Jones\", \"Nicole Anide\", \"Kosi Korso\", \"Adele Martins\", \"Emmanuel Ojo\", \"Ajayi Fatima\"]\n",
    "        if self.name in employees:\n",
    "            return True\n",
    "        else:\n",
    "            return False\n",
    "\n",
    "    def take_attendance(self):\n",
    "        attendance_file = open(\"attendance.txt\", \"a\")\n",
    "        attendance_file.write(f\"{self.name} - Present\\n\")\n",
    "        attendance_file.close()\n",
    "\n",
    "    def assign_task(self):\n",
    "        tasks = [\"Loading\", \"Transporting\", \"Reviewing Orders\", \"Customer Service\", \"Delivering Items\"]\n",
    "        assigned_task = random.choice(tasks)\n",
    "        return assigned_task\n",
    "\n",
    "    def refuse_access(self):\n",
    "        print(\"Access denied. You are not an employee.\")\n",
    "\n",
    "# Example usage\n",
    "name_input = input(\"Enter your name: \")\n",
    "\n",
    "employee = Employee(name_input)\n",
    "\n",
    "if employee.check_employee():\n",
    "    employee.take_attendance()\n",
    "    assigned_task = employee.assign_task()\n",
    "    print(f\"Welcome, {employee.name}!\")\n",
    "    print(f\"Your assigned task for today is: {assigned_task}\")\n",
    "else:\n",
    "    employee.refuse_access()"
   ]
  },
  {
   "cell_type": "code",
   "execution_count": null,
   "id": "da1b11e9",
   "metadata": {},
   "outputs": [],
   "source": []
  }
 ],
 "metadata": {
  "kernelspec": {
   "display_name": "Python 3 (ipykernel)",
   "language": "python",
   "name": "python3"
  },
  "language_info": {
   "codemirror_mode": {
    "name": "ipython",
    "version": 3
   },
   "file_extension": ".py",
   "mimetype": "text/x-python",
   "name": "python",
   "nbconvert_exporter": "python",
   "pygments_lexer": "ipython3",
   "version": "3.10.9"
  }
 },
 "nbformat": 4,
 "nbformat_minor": 5
}
