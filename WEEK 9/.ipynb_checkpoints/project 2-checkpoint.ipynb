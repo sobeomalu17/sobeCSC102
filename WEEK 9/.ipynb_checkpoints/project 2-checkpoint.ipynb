{
 "cells": [
  {
   "cell_type": "code",
   "execution_count": 1,
   "id": "0de48b63",
   "metadata": {},
   "outputs": [
    {
     "name": "stdout",
     "output_type": "stream",
     "text": [
      "Enter the delivery location: Lekki\n",
      "Enter the weight of the package (in kg): 150\n",
      "Invalid location\n"
     ]
    }
   ],
   "source": [
    "class DeliveryService:\n",
    "    def __init__(self, location, weight):\n",
    "        self.location = location\n",
    "        self.weight = weight\n",
    "\n",
    "    def calculate_delivery_charge(self):\n",
    "        if self.location == \"PAU\":\n",
    "            if self.weight >= 10:\n",
    "                return 2000\n",
    "            else:\n",
    "                return 1500\n",
    "        elif self.location == \"Epe\":\n",
    "            if self.weight >= 10:\n",
    "                return 5000\n",
    "            else:\n",
    "                return 4000\n",
    "        else:\n",
    "            return \"Invalid location\"\n",
    "\n",
    "# Example usage\n",
    "location_input = input(\"Enter the delivery location: \")\n",
    "weight_input = float(input(\"Enter the weight of the package (in kg): \"))\n",
    "\n",
    "delivery = DeliveryService(location_input, weight_input)\n",
    "charge = delivery.calculate_delivery_charge()\n",
    "\n",
    "if isinstance(charge, int):\n",
    "    print(f\"The delivery charge is: N{charge}\")\n",
    "else:\n",
    "    print(charge)"
   ]
  },
  {
   "cell_type": "code",
   "execution_count": null,
   "id": "ce6a0623",
   "metadata": {},
   "outputs": [],
   "source": []
  }
 ],
 "metadata": {
  "kernelspec": {
   "display_name": "Python 3 (ipykernel)",
   "language": "python",
   "name": "python3"
  },
  "language_info": {
   "codemirror_mode": {
    "name": "ipython",
    "version": 3
   },
   "file_extension": ".py",
   "mimetype": "text/x-python",
   "name": "python",
   "nbconvert_exporter": "python",
   "pygments_lexer": "ipython3",
   "version": "3.10.9"
  }
 },
 "nbformat": 4,
 "nbformat_minor": 5
}
