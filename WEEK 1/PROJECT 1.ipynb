{
 "cells": [
  {
   "cell_type": "code",
   "execution_count": 3,
   "id": "40771984",
   "metadata": {},
   "outputs": [
    {
     "name": "stdout",
     "output_type": "stream",
     "text": [
      "Enter the Principal Amount:450000\n",
      "Enter the Rate of interest:10\n",
      "Enter the Time period in years5\n",
      "simple interest is: 675000.0\n"
     ]
    }
   ],
   "source": [
    "#python to calculate simple interest\n",
    "P=float(input(\"Enter the Principal Amount:\"))\n",
    "R=float(input(\"Enter the Rate of interest:\"))\n",
    "T=float(input(\"Enter the Time period in years\"))\n",
    "\n",
    "# calculating simple interest\n",
    "A=P*(1+(R/100)*T)\n",
    "\n",
    "#printing the result\n",
    "print(\"simple interest is:\",A)"
   ]
  },
  {
   "cell_type": "code",
   "execution_count": 13,
   "id": "9b505d3a",
   "metadata": {},
   "outputs": [
    {
     "name": "stdout",
     "output_type": "stream",
     "text": [
      "Enter the Principal Amount:500000\n",
      "Enter the Rate of Interest:15\n",
      "Enter the Time period in years:5\n",
      "Enter the number of times interest is compounded per year:12\n",
      "Compound Interest is: 42085280490.07058\n"
     ]
    }
   ],
   "source": [
    "#python to calculate compound interest\n",
    "P=float(input(\"Enter the Principal Amount:\"))\n",
    "R=float(input(\"Enter the Rate of Interest:\"))\n",
    "T=float(input(\"Enter the Time period in years:\"))\n",
    "N=int(input(\"Enter the number of times interest is compounded per year:\"))\n",
    "\n",
    "# calculating compound interest\n",
    "A=P*(1+R/N)**N*T\n",
    "\n",
    "#printing the result\n",
    "print(\"Compound Interest is:\",A)"
   ]
  },
  {
   "cell_type": "code",
   "execution_count": 24,
   "id": "23477284",
   "metadata": {},
   "outputs": [
    {
     "name": "stdout",
     "output_type": "stream",
     "text": [
      "Enter the Rate of Interest:5\n",
      "Enter the number of times interest is compounded per year:4\n",
      "Enter the payment per period:250000\n",
      "Enter the time period in years:2\n",
      "Annuity plan is: 131168167.11425781\n"
     ]
    }
   ],
   "source": [
    "#python to calculate Annuity Plan\n",
    "R=float(input(\"Enter the Rate of Interest:\"))\n",
    "N=int(input(\"Enter the number of times interest is compounded per year:\"))\n",
    "PMT=float(input(\"Enter the payment per period:\"))\n",
    "T=float(input(\"Enter the time period in years:\")) \n",
    " \n",
    "# calculating Annuity plan\n",
    "numerator=PMT*((1+R/N)**(N*T)-1) \n",
    "denominator=R/N\n",
    "A=numerator/denominator\n",
    "\n",
    "#printing the result\n",
    "print(\"Annuity plan is:\",A)"
   ]
  },
  {
   "cell_type": "code",
   "execution_count": null,
   "id": "bb16ebc1",
   "metadata": {},
   "outputs": [],
   "source": []
  }
 ],
 "metadata": {
  "kernelspec": {
   "display_name": "Python 3 (ipykernel)",
   "language": "python",
   "name": "python3"
  },
  "language_info": {
   "codemirror_mode": {
    "name": "ipython",
    "version": 3
   },
   "file_extension": ".py",
   "mimetype": "text/x-python",
   "name": "python",
   "nbconvert_exporter": "python",
   "pygments_lexer": "ipython3",
   "version": "3.10.9"
  }
 },
 "nbformat": 4,
 "nbformat_minor": 5
}
