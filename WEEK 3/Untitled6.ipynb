{
 "cells": [
  {
   "cell_type": "code",
   "execution_count": 1,
   "id": "be17f5b7",
   "metadata": {},
   "outputs": [],
   "source": [
    "import numpy as np\n",
    "\n",
    "def quartic_roots(a, b, c, d, e):\n",
    "    #Define coefficients for the cubic equation\n",
    "    p = -b / (4 * a)\n",
    "    q = (8 * a * c - 3 * b**2) / (8 * a**2)\n",
    "    r = (-3 * b * c + 16 * a * d - 4 * a * b**2) / (16 * a**3)\n",
    "    s = (256 * a**3 * e - 64 * a**2 * d**2 - 16 * a * c**2 * a * b * d)\n",
    "    \n",
    "    # Define coefficient for the depressed cubic equation\n",
    "    A = 1\n",
    "    B = -q\n",
    "    C = -r\n",
    "    D = q**2 - 4 * p * s\n",
    "    \n",
    "    # Find the roots of the cubic equation\n",
    "    alpha = (3 * b**2 - 8 * a * c) / ( 8 * a**2)\n",
    "    beta = (b**3 - 4 * a * b * c + 8 * a**2 * d) / (8 * a**3)\n",
    "    gamma = (-3 * b**4 + 256 * a**3 * e - 64 * a**2 * b * d + 16 * a *b)\n",
    "    \n",
    "    # Find the roots of a quartic equation \n",
    "    roots = []\n",
    "    for root in cubic_roots:\n",
    "        quadratic = [1, alpha + root, beta, gamma / root]\n",
    "        quartic_root = np.roots(quadratic)\n",
    "        roots += quartic_root.tolist()\n",
    "        \n",
    "        return roots\n",
    "    a = 1\n",
    "    b = 2\n",
    "    c = 3\n",
    "    d = 4\n",
    "    e = 5\n",
    "    \n",
    "    roots = quartic_roots(a, b, c, d, e)\n",
    "    \n",
    "    print(roots)"
   ]
  },
  {
   "cell_type": "code",
   "execution_count": null,
   "id": "46754297",
   "metadata": {},
   "outputs": [],
   "source": []
  },
  {
   "cell_type": "code",
   "execution_count": null,
   "id": "5abbd7e8",
   "metadata": {},
   "outputs": [],
   "source": []
  },
  {
   "cell_type": "code",
   "execution_count": null,
   "id": "2d0bfd2b",
   "metadata": {},
   "outputs": [],
   "source": []
  }
 ],
 "metadata": {
  "kernelspec": {
   "display_name": "Python 3 (ipykernel)",
   "language": "python",
   "name": "python3"
  },
  "language_info": {
   "codemirror_mode": {
    "name": "ipython",
    "version": 3
   },
   "file_extension": ".py",
   "mimetype": "text/x-python",
   "name": "python",
   "nbconvert_exporter": "python",
   "pygments_lexer": "ipython3",
   "version": "3.10.9"
  }
 },
 "nbformat": 4,
 "nbformat_minor": 5
}
