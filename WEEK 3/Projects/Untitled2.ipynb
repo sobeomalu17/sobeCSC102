{
 "cells": [
  {
   "cell_type": "code",
   "execution_count": 2,
   "id": "1cf83e96",
   "metadata": {},
   "outputs": [
    {
     "ename": "IndentationError",
     "evalue": "unexpected indent (3519157702.py, line 35)",
     "output_type": "error",
     "traceback": [
      "\u001b[1;36m  Cell \u001b[1;32mIn[2], line 35\u001b[1;36m\u001b[0m\n\u001b[1;33m    print(roots)\u001b[0m\n\u001b[1;37m    ^\u001b[0m\n\u001b[1;31mIndentationError\u001b[0m\u001b[1;31m:\u001b[0m unexpected indent\n"
     ]
    }
   ],
   "source": [
    "import cmath\n",
    "\n",
    "def solve_quartic(a, b, c, d, e):\n",
    "    # Calculate coefficients for resolvent cubic\n",
    "    p = (-3*a*a + 8*b)\n",
    "    q = (a*a*a - 4*a*b + 8*c)\n",
    "    r = (-3*a*a*a*a + 16*a*a*b - 64*a*c + 256*d)\n",
    "    \n",
    "    # Solvent resolvent cubic\n",
    "    y1, y2, y3 = numpy.roots([p, q, r])\n",
    "    \n",
    "    # Calculate coefficients for quadratic factors\n",
    "    A = 1\n",
    "    B = 2*a\n",
    "    C = a*a - 4*b + 2*y1\n",
    "    D = 1\n",
    "    E = 2*a\n",
    "    F = a*a - 4*b + 2*y2\n",
    "    \n",
    "    # Solve quadratic factors\n",
    "    z1, z2 = numpy.roots([A, B, C])\n",
    "    w1, w2 = numpy.roots([D, E, F])\n",
    "    \n",
    "    # Combine roots to form quartic roots\n",
    "    roots = [z1 - y3/4, z2 - y3/4, w1 - y1/4, w2 - y2/4]\n",
    "    \n",
    "    return roots\n",
    "a = 1\n",
    "b = -10\n",
    "c = 35\n",
    "d = -50\n",
    "e = 24\n",
    "\n",
    "roots = solve_quartic( a, b, c, d, e)\n",
    "    print(roots)\n",
    "    \n",
    "    "
   ]
  },
  {
   "cell_type": "code",
   "execution_count": null,
   "id": "d2373b20",
   "metadata": {},
   "outputs": [],
   "source": []
  }
 ],
 "metadata": {
  "kernelspec": {
   "display_name": "Python 3 (ipykernel)",
   "language": "python",
   "name": "python3"
  },
  "language_info": {
   "codemirror_mode": {
    "name": "ipython",
    "version": 3
   },
   "file_extension": ".py",
   "mimetype": "text/x-python",
   "name": "python",
   "nbconvert_exporter": "python",
   "pygments_lexer": "ipython3",
   "version": "3.10.9"
  }
 },
 "nbformat": 4,
 "nbformat_minor": 5
}
