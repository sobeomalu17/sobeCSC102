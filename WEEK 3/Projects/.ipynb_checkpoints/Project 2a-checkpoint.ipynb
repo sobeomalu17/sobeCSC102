{
 "cells": [
  {
   "cell_type": "code",
   "execution_count": 1,
   "id": "0859f31b",
   "metadata": {},
   "outputs": [
    {
     "name": "stdout",
     "output_type": "stream",
     "text": [
      "Enter the coefficient of x^3: 3\n",
      "Enter the coefficient of x^2: -16\n",
      "Enter the coefficient of x: 23\n",
      "Enter the constant term: -6\n",
      "The three roots are: , (2.6666666666666665+0.7453559924999299j), (2.6666666666666665-0.7453559924999299j), (-13+0j)\n"
     ]
    }
   ],
   "source": [
    "import cmath\n",
    "\n",
    "#Define the coefficients\n",
    "A = float(input(\"Enter the coefficient of x^3: \"))\n",
    "B = float(input(\"Enter the coefficient of x^2: \"))\n",
    "C = float(input(\"Enter the coefficient of x: \"))\n",
    "D = float(input(\"Enter the constant term: \"))\n",
    "\n",
    "# Calculate the discriminant -\n",
    "delta = B ** 2 - 4 * A * C\n",
    "\n",
    "# Calculate the roots\n",
    "if delta > 0:\n",
    "    # Thee real roots\n",
    "    x1 = (-B + cmath.sqrt(delta)) / (2 * A)\n",
    "    x2 = (-B - cmath.sqrt(delta)) / (2 * A)\n",
    "    x3 = (-C / A) - x1 -x2\n",
    "    print(f\"The three roots are: {x1}, {x2}, {x3}\")\n",
    "elif delta == 0:\n",
    "    # One real root and two complex conjugate roots, \n",
    "    x1 = -B / (2 * A)\n",
    "    X2 = x3 = -C / (2 * A)\n",
    "    print(f\"The three roots are: {x1}, {x2} + {cmath.sqrt(abs(delta)) / (2 * A)}i, {x3} - {cmath.sqrt(abs(delta)) / (2 * A)}i\")\n",
    "else:\n",
    "    # Three distinct complex roots\n",
    "    x1 = (-B + cmath.sqrt(abs(delta)) * 1j) / (2 * A)\n",
    "    x2 = (-B - cmath.sqrt(abs(delta)) * 1j) / (2 * A)\n",
    "    x3 = (-C / A) - x1 - x2 \n",
    "    print(f\"The three roots are: , {x1}, {x2}, {x3}\")\n",
    "    "
   ]
  },
  {
   "cell_type": "code",
   "execution_count": null,
   "id": "4ee0a6e7",
   "metadata": {},
   "outputs": [],
   "source": []
  }
 ],
 "metadata": {
  "kernelspec": {
   "display_name": "Python 3 (ipykernel)",
   "language": "python",
   "name": "python3"
  },
  "language_info": {
   "codemirror_mode": {
    "name": "ipython",
    "version": 3
   },
   "file_extension": ".py",
   "mimetype": "text/x-python",
   "name": "python",
   "nbconvert_exporter": "python",
   "pygments_lexer": "ipython3",
   "version": "3.10.9"
  }
 },
 "nbformat": 4,
 "nbformat_minor": 5
}
