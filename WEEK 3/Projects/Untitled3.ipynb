{
 "cells": [
  {
   "cell_type": "code",
   "execution_count": 5,
   "id": "b8648c08",
   "metadata": {},
   "outputs": [
    {
     "ename": "NameError",
     "evalue": "name 'roots' is not defined",
     "output_type": "error",
     "traceback": [
      "\u001b[1;31m---------------------------------------------------------------------------\u001b[0m",
      "\u001b[1;31mNameError\u001b[0m                                 Traceback (most recent call last)",
      "Cell \u001b[1;32mIn[5], line 37\u001b[0m\n\u001b[0;32m     33\u001b[0m     e \u001b[38;5;241m=\u001b[39m \u001b[38;5;241m5\u001b[39m\n\u001b[0;32m     35\u001b[0m     roots \u001b[38;5;241m=\u001b[39m quartic_roots(a, b, c, d, e)\n\u001b[1;32m---> 37\u001b[0m \u001b[38;5;28mprint\u001b[39m(\u001b[38;5;124mf\u001b[39m\u001b[38;5;124m\"\u001b[39m\u001b[38;5;124mroots are:\u001b[39m\u001b[38;5;124m\"\u001b[39m, \u001b[43mroots\u001b[49m)\n",
      "\u001b[1;31mNameError\u001b[0m: name 'roots' is not defined"
     ]
    }
   ],
   "source": [
    "import numpy as np\n",
    "\n",
    "def quartic_roots(a, b, c, d, e):\n",
    "    #Define coefficients for the cubic equation\n",
    "    p = -b / (4 * a)\n",
    "    q = (8 * a * c - 3 * b**2) / (8 * a**2)\n",
    "    r = (-3 * b * c + 16 * a * d - 4 * a * b**2) / (16 * a**3)\n",
    "    s = (256 * a**3 * e - 64 * a**2 * d**2 - 16 * a * c**2 * a * b * d)\n",
    "    \n",
    "    # Define coefficient for the depressed cubic equation\n",
    "    A = 1\n",
    "    B = -q\n",
    "    C = -r\n",
    "    D = q**2 - 4 * p * s\n",
    "    \n",
    "    # Find the roots of the cubic equation\n",
    "    alpha = (3 * b**2 - 8 * a * c) / ( 8 * a**2)\n",
    "    beta = (b**3 - 4 * a * b * c + 8 * a**2 * d) / (8 * a**3)\n",
    "    gamma = (-3 * b**4 + 256 * a**3 * e - 64 * a**2 * b * d + 16 * a *b)\n",
    "    \n",
    "    # Find the roots of a quartic equation \n",
    "    roots = []\n",
    "    for root in cubic_roots:\n",
    "        quadratic = [1, alpha + root, beta, gamma / root]\n",
    "        quartic_root = np.roots(quadratic)\n",
    "        roots += quartic_root.tolist()\n",
    "        \n",
    "        return roots\n",
    "    a = 1\n",
    "    b = 2\n",
    "    c = 3\n",
    "    d = 4\n",
    "    e = 5\n",
    "    \n",
    "    roots = quartic_roots(a, b, c, d, e)\n",
    "    \n",
    "print(f\"roots are:\", roots)"
   ]
  },
  {
   "cell_type": "code",
   "execution_count": null,
   "id": "d983aa57",
   "metadata": {},
   "outputs": [],
   "source": []
  }
 ],
 "metadata": {
  "kernelspec": {
   "display_name": "Python 3 (ipykernel)",
   "language": "python",
   "name": "python3"
  },
  "language_info": {
   "codemirror_mode": {
    "name": "ipython",
    "version": 3
   },
   "file_extension": ".py",
   "mimetype": "text/x-python",
   "name": "python",
   "nbconvert_exporter": "python",
   "pygments_lexer": "ipython3",
   "version": "3.10.9"
  }
 },
 "nbformat": 4,
 "nbformat_minor": 5
}
