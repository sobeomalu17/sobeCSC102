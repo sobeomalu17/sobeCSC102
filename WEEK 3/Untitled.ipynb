{
 "cells": [
  {
   "cell_type": "code",
   "execution_count": null,
   "id": "74c35836",
   "metadata": {},
   "outputs": [],
   "source": [
    "grade = int(70)\n",
    "gpa = int(4.9)\n",
    "cgpa = int(\"4\")\n",
    "\n",
    "print(f\"Grade = {grade}\")\n",
    "print(f\"GP)"
   ]
  }
 ],
 "metadata": {
  "kernelspec": {
   "display_name": "Python 3 (ipykernel)",
   "language": "python",
   "name": "python3"
  },
  "language_info": {
   "codemirror_mode": {
    "name": "ipython",
    "version": 3
   },
   "file_extension": ".py",
   "mimetype": "text/x-python",
   "name": "python",
   "nbconvert_exporter": "python",
   "pygments_lexer": "ipython3",
   "version": "3.10.9"
  }
 },
 "nbformat": 4,
 "nbformat_minor": 5
}
