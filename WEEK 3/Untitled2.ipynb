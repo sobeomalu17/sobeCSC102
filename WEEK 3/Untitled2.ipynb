{
 "cells": [
  {
   "cell_type": "code",
   "execution_count": null,
   "id": "88ef7687",
   "metadata": {},
   "outputs": [],
   "source": [
    "import numpy as np\n",
    "\n",
    "def quartic_roots(a, b, c, d, e):\n",
    "    #Define coefficients for the cubic equation\n",
    "    p = -b / (4 * a)\n",
    "    q = (8 * a * c - 3 * b**2) / (8 * a**2)\n",
    "    r = (-3 * b * c + 16 * a * d - 4 * a * b**2) / (16 * a**3)"
   ]
  }
 ],
 "metadata": {
  "kernelspec": {
   "display_name": "Python 3 (ipykernel)",
   "language": "python",
   "name": "python3"
  },
  "language_info": {
   "codemirror_mode": {
    "name": "ipython",
    "version": 3
   },
   "file_extension": ".py",
   "mimetype": "text/x-python",
   "name": "python",
   "nbconvert_exporter": "python",
   "pygments_lexer": "ipython3",
   "version": "3.10.9"
  }
 },
 "nbformat": 4,
 "nbformat_minor": 5
}
